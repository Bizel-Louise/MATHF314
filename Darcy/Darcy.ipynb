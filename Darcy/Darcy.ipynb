{
 "cells": [
  {
   "cell_type": "markdown",
   "metadata": {},
   "source": [
    "# Devoir 2. Advection-diffusion en milieu poreux."
   ]
  },
  {
   "cell_type": "markdown",
   "metadata": {},
   "source": [
    "## Introduction"
   ]
  },
  {
   "cell_type": "markdown",
   "metadata": {},
   "source": [
    "Dans un milieu poreux, la vitesse d'un écoulement incompressible ($\\nabla.\\mathbf{u}=0$) obéit à l'équation de Darcy :\n",
    "\n",
    "$$\\mathbf{u}=-\\frac K \\mu(\\nabla P - \\rho\\,g\\,\\mathbf{1}_z),$$\n",
    "\n",
    "avec $K$ la perméabilité du milieu, $\\mu$ la viscosité du fluide et $g$ l'accélération de la pesanteur (dirigée dans la direction $\\mathbf{1}_z$).\n",
    "\n",
    "Si un soluté est présent dans le fluide qui s'écoule, sa concentration évolue suivant l'équation d'advection-diffusion :\n",
    "\n",
    "$$\\phi\\frac{\\partial C}{\\partial t}=-\\mathbf{u}.\\nabla C + \\phi D\\nabla^2C,$$\n",
    "\n",
    "où $\\phi$ est la porosité du millieu et $D$ le coefficient de diffusion du soluté. Le premier terme de droite exprime le transport du soluté dû à l'écoulement du fluide, tandis que le second exprime quant à lui le transport du soluté du fait de sa diffusion.\n",
    "\n",
    "Ce système d'équations apparait dans l'étude de la stabilité de solutions chimiques en milieu poreux.\n",
    "\n",
    "Nous considérons ici un milieu poreux à deux dimensions $(x,z)$, semi-infini dans la direction $z$ ($z \\in [0,\\infty ]$). La vitesse est donc $\\mathbf{u}=(u,w)$. Les équations précédentes sont adimensionnalisées, de façon à ce que toutes les quantités physiques n'aient plus de dimension. Après quelques manipulations, elles peuvent être linéarisées en séparant la composante verticale de la vitesse $w$ et la concentration en un état de base et des perturbations autour de cet état de base :\n",
    "\n",
    "$$ (w,c) = (0,C_0(z,t))+(w',c')(z,t)\\mathrm{e}^{ikx}.$$\n",
    "\n",
    "Le fluide étant initialement au repos, l'état de base de $w$ est nul. $C_0(z,t)$, $c'(z,t)$ et $w'(z,t)$ sont des fonctions des variables réelles $z \\in [0,\\infty ]$ et $t$. Cette linéarisation permet d'obtenir les équations auxquelles les perturbations $w'$ et $c'$ obéissent:\n",
    "\n",
    "$$\\left(\\frac{\\partial^2}{\\partial z^2}-k^2\\right)w' = -k^2 c'\\\\\n",
    "\\frac{\\partial c'}{\\partial t}-\\frac{1}{Ra}\\left(\\frac{\\partial^2}{\\partial z^2}-k^2\\right)c'=-\\frac{\\partial C_0}{\\partial z}w',$$\n",
    "\n",
    "$k$ et $Ra$ étant deux paramètres. Le premier désigne le nombre d'onde des perturbations, tandis que le second est le nombre de Rayleigh qui mesure le rapport entre transports diffusif et convectif. \n",
    "\n",
    "Nous souhaitons ici que la concentration soit fixée à 1 en $z=0$ et qu'elle s'annule en $z\\rightarrow\\infty$. Cela est possible si $C_0(z=0,t)=1$ et $c'(z=0,t)=c'(z=\\infty,t)=C_0(z=\\infty,t)=0$.\n",
    "La fonction $C_0(z,t)$ qui satisfait à ces conditions aux bords est $C_0(z,t)=1-{\\rm erf}(z\\sqrt{\\frac{Ra}{4t}})$, ${\\rm erf}$ étant la fonction d'erreur (https://en.wikipedia.org/wiki/Error_function). Cela implique que \n",
    "\n",
    "$$\\frac{\\partial C_0}{\\partial z} = -\n",
    "\\frac{2}{\\sqrt{\\pi}}\\sqrt{\\frac{Ra}{4t}}e^{-\\left(z\\sqrt{\\frac{Ra}{4t}}\\right)^2}.$$\n"
   ]
  },
  {
   "cell_type": "markdown",
   "metadata": {},
   "source": [
    "### Question 1"
   ]
  },
  {
   "cell_type": "markdown",
   "metadata": {},
   "source": [
    "Soit la variable de similarité $\\xi$ définie par $\\xi=z\\sqrt{\\frac{Ra}{4t}}$. Montrer qu'en termes des variables $\\xi$ et $t$ le système d'equations ci-dessus s'écrit comme (nous laissons tomber les apostrophes):\n",
    "\n",
    "$$\\left(\\frac{Ra}{4t}\\frac{\\partial^2}{\\partial \\xi^2}-k^2\\right)w = -k^2 c\\\\\n",
    "\\frac{\\partial c}{\\partial t}-\\frac{1}{t}\\left(\\frac{1}{4}\\frac{\\partial^2}{\\partial \\xi^2}+\\frac{\\xi}{2}\\frac{\\partial}{\\partial\\xi}-\\frac{k^2 t}{Ra}\\right)c=\\sqrt{\\frac{Ra}{\\pi t}}e^{-\\xi^2}w\n",
    "$$"
   ]
  },
  {
   "cell_type": "markdown",
   "metadata": {},
   "source": [
    "### Question 2\n",
    "\n",
    "La variable $\\xi$ est discrétisée sur une grille uniforme:\n",
    "\n",
    "$$\n",
    "\\xi_m = m\\Delta, \\quad m=0, 1,..., 100\n",
    "$$\n",
    "\n",
    "On a alors $c_m = c(\\xi_m,t)$ et $w_m=w(\\xi_m,t)$.\n",
    "\n",
    "En utilisant des différences finies centrées d'ordre 2, comment s'écrivent les opérateurs suivants?\n",
    "\n",
    "$$\n",
    "\\begin{align}\n",
    "L_{i,j} = \\left(\\frac{Ra}{4t}\\frac{\\partial^2}{\\partial \\xi^2}-k^2\\right)_{i,j}\\\\\n",
    "M_{i,j} = \\frac{1}{t}\\left(\\frac{1}{4}\\frac{\\partial^2}{\\partial \\xi^2}+\\frac{\\xi}{2}\\frac{\\partial}{\\partial\\xi}-\\frac{k^2 t}{Ra}\\right)_{i,j}\n",
    "\\end{align}\n",
    "$$\n",
    "\n",
    "avec comme conditions aux bords,\n",
    "\n",
    "$$\n",
    "c(\\xi=0,t)=c(\\xi=\\infty,t)=w(\\xi=0,t)=w(\\xi=\\infty,t)=0\n",
    "$$\n",
    "\n",
    "### Question 3\n",
    "\n",
    "Soit $f(\\xi)=e^{-\\xi^2}h(\\xi)$ où $h$ est une solution de l'équation de Hermite $h^{''}-2\\xi h'=-2\\lambda h$. Montrer que $f$ est alors une fonction propre de l'opérateur\n",
    "\n",
    "$$\n",
    "Hf = \\frac{1}{4}\\frac{\\partial^2 f}{\\partial \\xi^2}+\\frac{\\xi}{2}\\frac{\\partial f}{\\partial\\xi}=\\alpha f\n",
    "$$\n",
    "\n",
    "Si $f(\\xi=0)=f(\\xi=\\infty)=0$, quelles sont les valeurs admissibles pour $\\alpha$?\n",
    "\n",
    "*Indice:* voir la section 'Hermite's differential equation' de la page https://en.wikipedia.org/wiki/Hermite_polynomials\n",
    "\n",
    "### Question 4\n",
    "\n",
    "Pour valider la construction des opérateurs de dérivées premières et secondes, calculer **numériquement** les 5 plus grandes valeurs propres de l'opérateur $H$ et montrer qu'elles sont identiques à celles déterminées à la question 3.\n",
    "\n",
    "On peut à cet effet utiliser la fonction `numpy.linalg.eig` et on prendra: $\\Delta=L/(N-1)$ avec $L=5$ et $N=101$."
   ]
  },
  {
   "cell_type": "markdown",
   "metadata": {},
   "source": [
    "### Question 5"
   ]
  },
  {
   "cell_type": "markdown",
   "metadata": {},
   "source": [
    "Calculer l'évolution au cours du temps de la fonction $c(\\xi_m,t)$ à partir de la condition initiale aléatoire fournie pour ce devoir. Si elle se trouve dans le même directoire que le notebook, elle peut être chargée en utilisant la commande:\n",
    "\n",
    "`c_i = numpy.load(\"init_cond_c.npy\")`\n",
    "\n",
    "On prendra comme temps initial $t_0=10^{-5}$ ainsi que $Ra=500$ et $k=0.1$.\n",
    "\n",
    "* Représenter sur un même graphique la condition initiale $c_i(\\xi_m,t_0)$ et la solution à l'instant $t=10^{-4}$.\n",
    "* Que vaut la valeur maximale de la solution en $t=10^{-4}$ ?\n",
    "\n",
    "L'avancement de la solution dans le temps doit se faire avec l'algorithme RK4 et il faut prendre $dt=10^{-8}$.\n",
    "\n"
   ]
  }
 ],
 "metadata": {
  "anaconda-cloud": {},
  "kernelspec": {
   "display_name": "Python 3",
   "language": "python",
   "name": "python3"
  },
  "language_info": {
   "codemirror_mode": {
    "name": "ipython",
    "version": 3
   },
   "file_extension": ".py",
   "mimetype": "text/x-python",
   "name": "python",
   "nbconvert_exporter": "python",
   "pygments_lexer": "ipython3",
   "version": "3.7.0"
  }
 },
 "nbformat": 4,
 "nbformat_minor": 2
}
