{
 "cells": [
  {
   "cell_type": "markdown",
   "metadata": {},
   "source": [
    "## Devoir PHYS-F-302, année académique 2019-2020"
   ]
  },
  {
   "cell_type": "markdown",
   "metadata": {},
   "source": [
    "Soit l'équation différentielle linéaire à coefficients constants:"
   ]
  },
  {
   "cell_type": "markdown",
   "metadata": {},
   "source": [
    "\\begin{align}\n",
    "\\frac{d^4 f}{dx^4}-5 \\frac{d^2 f}{dx^2}+ 4f = 0\\hspace{5cm} (1)\n",
    "\\end{align}"
   ]
  },
  {
   "cell_type": "markdown",
   "metadata": {},
   "source": [
    "où $f$ est une fonction de la variable $x\\in [0\\ 1]$. Par ailleurs, on a les conditions aux bords suivantes:\n",
    "\n",
    "$$\n",
    "f(0)=a, f'(0)=b, f(1)=c, f'(1)=d \\hspace{3cm} (2)\n",
    "$$"
   ]
  },
  {
   "cell_type": "markdown",
   "metadata": {},
   "source": [
    "### Question 1 (2 points)\n",
    "\n",
    "Quelle est la solution générale de l'équation (1)?"
   ]
  },
  {
   "cell_type": "markdown",
   "metadata": {},
   "source": [
    "### Question 2 (3 points)\n",
    "\n",
    "Ecrire un code en python qui permet d'évaluer les constantes d'intégration de la solution générale en termes des conditions aux bords (2). Pour cette question vous pouvez vous servir de n'importe quelle routine fournie par numpy."
   ]
  },
  {
   "cell_type": "markdown",
   "metadata": {},
   "source": [
    "### Question 3 (2 points)\n",
    "\n",
    "Que vaut la solution de l'équation (1) pour $a=0, b=0, c=1, d=-1$. Représentez cette fonction sur un graphique."
   ]
  },
  {
   "cell_type": "markdown",
   "metadata": {},
   "source": [
    "### Question 4 (6 points)\n",
    "\n",
    "Résoudre l'équation (1) avec la méthode Gauss-Seidel vue dans le cours. Combien d'itérations sont nécessaires? Comparer votre solution avec la solution obtenue à la question 3 (graphiquement et en mesurant la norme L2 de la différence).\n",
    "\n",
    "### Question 5 (7 points)\n",
    "\n",
    "Résoudre l'équation (1) avec la méthode du gradient conjugué vue dans le cours. Combien d'itérations sont nécessaires? Comparer votre solution avec la solution obtenue à la question 3 (graphiquement et en mesurant la norme L2 de la différence)."
   ]
  },
  {
   "cell_type": "markdown",
   "metadata": {},
   "source": [
    "## Consignes:\n",
    "    \n",
    "- Pour les questions 4 et 5 prendre $nx=101$ pour discrétiser l'interval $x\\in [0\\ 1]$.\n",
    "- Faites converger les méthodes itératives jusqu'à ce que la différence en norme L2 de deux itérations successives soit $<10^{-8}$."
   ]
  },
  {
   "cell_type": "code",
   "execution_count": 4,
   "metadata": {},
   "outputs": [],
   "source": [
    "def L2_rel_error(p, pn):\n",
    "    ''' Compute the relative L2 norm of the difference\n",
    "    Parameters:\n",
    "    ----------\n",
    "    p : array of float\n",
    "        array 1\n",
    "    pn: array of float\n",
    "        array 2\n",
    "    Returns:\n",
    "    -------\n",
    "    Relative L2 norm of the difference\n",
    "    '''\n",
    "    return numpy.sqrt(numpy.sum((p - pn)**2)/numpy.sum(pn**2))"
   ]
  },
  {
   "cell_type": "code",
   "execution_count": null,
   "metadata": {},
   "outputs": [],
   "source": []
  }
 ],
 "metadata": {
  "kernelspec": {
   "display_name": "Python 3",
   "language": "python",
   "name": "python3"
  },
  "language_info": {
   "codemirror_mode": {
    "name": "ipython",
    "version": 3
   },
   "file_extension": ".py",
   "mimetype": "text/x-python",
   "name": "python",
   "nbconvert_exporter": "python",
   "pygments_lexer": "ipython3",
   "version": "3.7.6"
  }
 },
 "nbformat": 4,
 "nbformat_minor": 4
}
